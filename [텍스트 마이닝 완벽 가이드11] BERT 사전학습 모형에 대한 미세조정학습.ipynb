{
 "cells": [
  {
   "cell_type": "code",
   "execution_count": 1,
   "id": "a816eb7e",
   "metadata": {},
   "outputs": [],
   "source": [
    "# BERT 학습을 위한 전처리\n",
    "# BERT의 두 가지 언어 모델 학습에 대응하는 것으로 이를 표현하기 위해 세 개의 임베딩을 이용한다.\n",
    "# 그 중 첫째는 토큰 임베딩이다. 문장에 사용된 단어 외에 두 종류의 특수 토큰이 추가돼 있다. \n",
    "# 첫째는 [CLS]토큰: 분류 토큰으로, 한 문서에 대한 문서 분류나 두 문서의 관계에 대한 분류를 하기 위한 정보를 수집해 최종적으로 출력 \n",
    "# 둘째는 [SEP]토큰: seperator 토큰으로 한 문장의 끝을 나타내거나 두 문장을 분리한다.\n",
    "\n",
    "# 둘째 임베딩은 구간 임베딩이며, 문장을 구분한다.[CLS]와 첫 문장의 토큰 그리고 첫 문장의 끝 [SEP]까지를 보통0, 나머지를 1로 임베딩\n",
    "# 셋째 임베딩은 위치 임베딩으로 시퀀스에서의 순서를 나타낸다. 셀프 어텐션을 사용하므로 RNN과 달리 각 토큰의 위치에 대한 정보는 없다.\n",
    "# 따라서 이를 임베딩에 명시적으로 넣어준다. 따라서 일반적으로 BERT 토크나이저가 위치 임베딩을 반환하지는 않는다."
   ]
  },
  {
   "cell_type": "code",
   "execution_count": 2,
   "id": "32f35c22",
   "metadata": {},
   "outputs": [
    {
     "name": "stdout",
     "output_type": "stream",
     "text": [
      "What a beautiful day! 토큰화 결과: ['what', 'a', 'beautiful', 'day', '!']\n",
      "Nvidia Titan XP has 12GB of VRAM 토큰화 결과: ['n', '##vid', '##ia', 'titan', 'xp', 'has', '12', '##gb', 'of', 'vr', '##am']\n"
     ]
    }
   ],
   "source": [
    "from transformers import BertTokenizer\n",
    "\n",
    "tokenizer = BertTokenizer.from_pretrained('bert-base-uncased')\n",
    "\n",
    "sentence1 = 'What a beautiful day!'\n",
    "sentence2 = 'Nvidia Titan XP has 12GB of VRAM'\n",
    "\n",
    "# 1. 토큰화 결과\n",
    "print(sentence1, '토큰화 결과:', tokenizer.tokenize(sentence1))\n",
    "print(sentence2, '토큰화 결과:', tokenizer.tokenize(sentence2))"
   ]
  },
  {
   "cell_type": "code",
   "execution_count": 3,
   "id": "1e1db273",
   "metadata": {},
   "outputs": [
    {
     "name": "stdout",
     "output_type": "stream",
     "text": [
      "BERT 입력: {'input_ids': [[101, 2054, 1037, 3376, 2154, 999, 102, 0, 0, 0, 0, 0, 0], [101, 1050, 17258, 2401, 16537, 26726, 2038, 2260, 18259, 1997, 27830, 3286, 102]], 'token_type_ids': [[0, 0, 0, 0, 0, 0, 0, 0, 0, 0, 0, 0, 0], [0, 0, 0, 0, 0, 0, 0, 0, 0, 0, 0, 0, 0]], 'attention_mask': [[1, 1, 1, 1, 1, 1, 1, 0, 0, 0, 0, 0, 0], [1, 1, 1, 1, 1, 1, 1, 1, 1, 1, 1, 1, 1]]}\n"
     ]
    }
   ],
   "source": [
    "# input_ids 토큰 임베딩의 결과\n",
    "# token_type_ids 구간 임베딩의 결과\n",
    "# attention_mask 임베딩이 아닌 마스킹과 관련된 부분으로, 0이면 마스킹이 되어 셀프 어텐션에서 제외되고, 1이면 셀프 어텐션 포함\n",
    "# 즉 입력 토큰에서 셀프 어텐션이 필요 없는 부분들은 마스킹을 한다.\n",
    "\n",
    "# 2. BERT 모형 입력 생성\n",
    "inputs = tokenizer([sentence1, sentence2], padding=True)\n",
    "print('BERT 입력:', inputs)"
   ]
  },
  {
   "cell_type": "code",
   "execution_count": 4,
   "id": "bd3c6707",
   "metadata": {},
   "outputs": [
    {
     "name": "stdout",
     "output_type": "stream",
     "text": [
      "두 문장 시퀀스에 대한 BERT 입력: {'input_ids': [101, 2054, 1037, 3376, 2154, 999, 102, 1050, 17258, 2401, 16537, 26726, 2038, 2260, 18259, 1997, 27830, 3286, 102], 'token_type_ids': [0, 0, 0, 0, 0, 0, 0, 1, 1, 1, 1, 1, 1, 1, 1, 1, 1, 1, 1], 'attention_mask': [1, 1, 1, 1, 1, 1, 1, 1, 1, 1, 1, 1, 1, 1, 1, 1, 1, 1, 1]}\n"
     ]
    }
   ],
   "source": [
    "# 101토큰은 [CLS] , 102토큰은 [SEP]\n",
    "\n",
    "# 3. 두 문장으로 이루어진 시퀀스에 대한 BERT 모형 입력 생성\n",
    "inputs = tokenizer(sentence1, sentence2, padding=True)\n",
    "print('두 문장 시퀀스에 대한 BERT 입력:', inputs)"
   ]
  },
  {
   "cell_type": "code",
   "execution_count": 5,
   "id": "e9a99b5c",
   "metadata": {},
   "outputs": [
    {
     "name": "stderr",
     "output_type": "stream",
     "text": [
      "[nltk_data] Downloading package movie_reviews to\n",
      "[nltk_data]     C:\\Users\\Leedonghoon\\AppData\\Roaming\\nltk_data...\n",
      "[nltk_data]   Package movie_reviews is already up-to-date!\n"
     ]
    },
    {
     "name": "stdout",
     "output_type": "stream",
     "text": [
      "Train set count: 1600\n",
      "Test set count: 400\n"
     ]
    }
   ],
   "source": [
    "# 트랜스포머의 트레이너를 이용한 미세조정학습\n",
    "# 매우 복잡한 과정을 거쳐야 하지만 세밀하게 모형을 조정하는 것이 가능하고 자신이 원하는 다양한 딥러닝 모델을 추가해 모형을 확장하는 가능\n",
    "# NLTK 영화리뷰 데이터 미세조정학습\n",
    "import nltk\n",
    "from nltk.corpus import movie_reviews\n",
    "\n",
    "# sklearn에서 제공하는 split 함수를 사용\n",
    "from sklearn.model_selection import train_test_split\n",
    "import numpy as np\n",
    "\n",
    "nltk.download('movie_reviews')\n",
    "fileids = movie_reviews.fileids() # movie_reviews data에서 file id를 가져옴\n",
    "\n",
    "# file id를 이용해 raw text file을 가져옴\n",
    "reviews = [movie_reviews.raw(fileid) for fileid in fileids]\n",
    "categories = [movie_reviews.categories(fileid)[0] for fileid in fileids]\n",
    "\n",
    "# label을 0,1의 값으로 변환\n",
    "label_dict = {'pos':1, 'neg':0}\n",
    "y = [label_dict[c] for c in categories]\n",
    "\n",
    "X_train, X_test, y_train, y_test = train_test_split(reviews, y, test_size=0.2, random_state=7)\n",
    "print('Train set count:',len(X_train))\n",
    "print('Test set count:', len(X_test))"
   ]
  },
  {
   "cell_type": "code",
   "execution_count": 6,
   "id": "1774b08e",
   "metadata": {},
   "outputs": [
    {
     "name": "stderr",
     "output_type": "stream",
     "text": [
      "Some weights of BertForSequenceClassification were not initialized from the model checkpoint at bert-base-uncased and are newly initialized: ['classifier.bias', 'classifier.weight']\n",
      "You should probably TRAIN this model on a down-stream task to be able to use it for predictions and inference.\n"
     ]
    }
   ],
   "source": [
    "from transformers import BertTokenizerFast, BertForSequenceClassification\n",
    "\n",
    "tokenizer = BertTokenizerFast.from_pretrained('bert-base-uncased')\n",
    "model = BertForSequenceClassification.from_pretrained('bert-base-uncased')\n",
    "\n",
    "train_input = tokenizer(X_train, truncation=True, padding=True, return_tensors = 'pt')\n",
    "test_input = tokenizer(X_test, truncation=True, padding=True, return_tensors='pt')"
   ]
  },
  {
   "cell_type": "code",
   "execution_count": 7,
   "id": "8fc635dd",
   "metadata": {},
   "outputs": [],
   "source": [
    "import torch\n",
    "\n",
    "class OurDataset(torch.utils.data.Dataset):\n",
    "    def __init__(self, inputs, labels):\n",
    "        self.inputs = inputs\n",
    "        self.labels = labels\n",
    "    \n",
    "    def __getitem__(self, idx):\n",
    "        item = {key: torch.tensor(val[idx]) for key,val in self.inputs.items()}\n",
    "        item['labels'] = torch.tensor(self.labels[idx])\n",
    "        return item\n",
    "    \n",
    "    def __len__(self):\n",
    "        return len(self.labels)\n",
    "    \n",
    "train_dataset = OurDataset(train_input, y_train)\n",
    "test_dataset = OurDataset(test_input, y_test)"
   ]
  },
  {
   "cell_type": "code",
   "execution_count": 8,
   "id": "7378dbb7",
   "metadata": {},
   "outputs": [
    {
     "name": "stderr",
     "output_type": "stream",
     "text": [
      "C:\\Users\\Leedonghoon\\AppData\\Local\\Temp\\ipykernel_1372\\3497906201.py:4: FutureWarning: load_metric is deprecated and will be removed in the next major version of datasets. Use 'evaluate.load' instead, from the new library 🤗 Evaluate: https://huggingface.co/docs/evaluate\n",
      "  metric = load_metric('accuracy')\n"
     ]
    }
   ],
   "source": [
    "# 학습을 수행하기 전에 정확도 측정을 위한 준비를 한다. 트랜스포머가 제공하는 Trainer 클래스는 기본적으로 학습 도중에 손실에 대한 값만 제공\n",
    "from datasets import load_metric\n",
    "\n",
    "metric = load_metric('accuracy')\n",
    "\n",
    "def compute_metrics(eval_pred):\n",
    "    logits, labels = eval_pred\n",
    "    predictions = np.argmax(logits, axis=1)\n",
    "    return metric.compute(predictions = predictions, references=labels)"
   ]
  },
  {
   "cell_type": "code",
   "execution_count": null,
   "id": "7e3ce2a7",
   "metadata": {},
   "outputs": [
    {
     "name": "stderr",
     "output_type": "stream",
     "text": [
      "C:\\Users\\Leedonghoon\\anaconda3\\Lib\\site-packages\\transformers\\optimization.py:411: FutureWarning: This implementation of AdamW is deprecated and will be removed in a future version. Use the PyTorch implementation torch.optim.AdamW instead, or set `no_deprecation_warning=True` to disable this warning\n",
      "  warnings.warn(\n",
      "C:\\Users\\Leedonghoon\\AppData\\Local\\Temp\\ipykernel_1372\\994940297.py:9: UserWarning: To copy construct from a tensor, it is recommended to use sourceTensor.clone().detach() or sourceTensor.clone().detach().requires_grad_(True), rather than torch.tensor(sourceTensor).\n",
      "  item = {key: torch.tensor(val[idx]) for key,val in self.inputs.items()}\n"
     ]
    },
    {
     "data": {
      "text/html": [
       "\n",
       "    <div>\n",
       "      \n",
       "      <progress value='35' max='400' style='width:300px; height:20px; vertical-align: middle;'></progress>\n",
       "      [ 35/400 6:54:47 < 76:27:49, 0.00 it/s, Epoch 0.17/2]\n",
       "    </div>\n",
       "    <table border=\"1\" class=\"dataframe\">\n",
       "  <thead>\n",
       " <tr style=\"text-align: left;\">\n",
       "      <th>Step</th>\n",
       "      <th>Training Loss</th>\n",
       "    </tr>\n",
       "  </thead>\n",
       "  <tbody>\n",
       "  </tbody>\n",
       "</table><p>"
      ],
      "text/plain": [
       "<IPython.core.display.HTML object>"
      ]
     },
     "metadata": {},
     "output_type": "display_data"
    }
   ],
   "source": [
    "# Trainer와 TrainingArguments 정의\n",
    "# TrainingArguments는 학습에 사용할 다양한 옵션과 하이퍼 파라미터를 정의할 수 있게 지원하는 클래스이다.\n",
    "# 반드시 필요한 네 개의 매개변수만 정의한다.\n",
    "# 첫째, 체크포인트 모형을 저장할 폴더 위치, 체크포인트 모형은 모형이 가진 변수, 즉 학습된 결과\n",
    "# 둘째, 학습 에포크로 전체 데이터셋에 대한 학습 횟수\n",
    "# 셋째, per_device_train_batch_size는 학습에서 사용할 데이터 배치의 크기\n",
    "\n",
    "from transformers import Trainer, TrainingArguments\n",
    "\n",
    "# Trainer에서 사용할 하이퍼 파라미터 지정\n",
    "training_args = TrainingArguments(\n",
    "    output_dir = '/results', # 모형 예측이나 체크포인트 출력 폴더, 반드시 필요함\n",
    "    num_train_epochs = 2,   # 학습 에포크 수\n",
    "    per_device_train_batch_size = 8, # 학습에 사용할 배치 사이즈\n",
    "    per_device_eval_batch_size = 16, # 평가에 사용할 배치 사이즈\n",
    ")\n",
    "\n",
    "trainer = Trainer(\n",
    "    model=model,       # 학습할 모형\n",
    "    args = training_args,     # 위에서 정의한 학습 매개변수\n",
    "    train_dataset = train_dataset,   # 학습 데이터셋\n",
    "    compute_metrics = compute_metrics,\n",
    ")\n",
    "\n",
    "# 미세조정학습 실행\n",
    "trainer.train()"
   ]
  },
  {
   "cell_type": "code",
   "execution_count": null,
   "id": "ec9a52fb",
   "metadata": {},
   "outputs": [],
   "source": [
    "# 89%로 지금까지보다 확실히 개선된 성능을 보여준다. 이 결과는 학습할 때 랜덤하게 초기화되거나 변경되는 변수들이 있어 항상 같지는 않다.\n",
    "trainer.evaluate(eval_dataset=test_dataset)"
   ]
  },
  {
   "cell_type": "code",
   "execution_count": null,
   "id": "a9675691",
   "metadata": {},
   "outputs": [],
   "source": [
    "# 파이토치를 이용한 미세조정학습\n",
    "# 트랜스포머의 Trainer를 사용하지 않고 파이토치로 미세조정학습을 하는 방법을 알아본다.\n",
    "# Trainer는 비교적 간편하게 사전학습 모형에 대한 미세조정학습을 수행할 수 있다는 장점이 있는 반면,\n",
    "# 모형을 필요에 따라 변경할 수 없다는 제한이 있다.\n",
    "# 만일 BERT의 기본 모형을 사용하고 BERT가 제공하는 [CLS] 토큰의 출력값이나, 모든 단어들에 대한 출력값을 직접 사용하고 싶다면 파이토치를\n",
    "# 이용해서 직접 모형을 수정하는 방법을 사용해야 한다.\n",
    "del model\n",
    "del trainer\n",
    "torch.cuda.empty_cache()"
   ]
  },
  {
   "cell_type": "code",
   "execution_count": null,
   "id": "7df43cb3",
   "metadata": {},
   "outputs": [],
   "source": [
    "from torch.utils.data import DataLoader\n",
    "\n",
    "train_loader = DataLoader(train_dataset, shuffle=True, batch_size=8)"
   ]
  },
  {
   "cell_type": "code",
   "execution_count": null,
   "id": "77579e93",
   "metadata": {},
   "outputs": [],
   "source": [
    "# 분류기가 없는 원형의 BERT 모형에 직접 분류기를 추가해 감성 분석을 할 수 있는 사용자정의 모형을 만들고 그 모형을 학습\n",
    "# 언어 모델 사전학습 모형인 BertModel 사용\n",
    "from transformers import BertModel\n",
    "\n",
    "bert_model = BertModel.from_pretrained('bert-base-uncased')"
   ]
  },
  {
   "cell_type": "code",
   "execution_count": null,
   "id": "c0e9c88a",
   "metadata": {},
   "outputs": [],
   "source": [
    "# BERT 사전학습 모형을 포함하는 신경망 모형을 선언\n",
    "# nun_labels 분류할 클래스의 수, 감성분석 2\n",
    "# token_size BERT 모형의 출력 벡터의 크기, 문서 분류에서는 모든 단어들의 출략(임베딩) 벡터가 아니라 CLS 토큰에 대응하는 출력 벡터만\n",
    "# 가장 앞에 있는 CSL토큰만 outputs.last_hidden_state[:,0,:]\n",
    "# 만약 양방향 LSTM이나 CNN 모형을 넣고 싶다면 추가하면 된다.\n",
    "\n",
    "# BERT를 포함한 신경망 모형\n",
    "class MyModel(torch.nn.Module):\n",
    "    def __init__(self, pretrained_model, token_size, num_labels):\n",
    "        super(MyModel, self).__init__()\n",
    "        self.token_size = token_size\n",
    "        self.num_labels = num_labels\n",
    "        self.pretrained_model = pretrained_model\n",
    "        # 분류기 정의\n",
    "        self.classifier = torch.nn.Linear(self.token_size, self.num_labels)\n",
    "        \n",
    "    def forward(self, inputs):\n",
    "        # BERT 모형에 입력을 넣고 출력을 받음\n",
    "        outputs = self.pretrained_model(**inputs)\n",
    "        # BERT 출력에서 CLS 토큰에 해당하는 부분만 가져옴\n",
    "        bert_clf_token = outputs.last_hidden_state[:,0,:]\n",
    "        \n",
    "        return self.classifier(bert_clf_token)\n",
    "    \n",
    "# token_size는 BERT 토큰과 동일, bert_model.config.hidden_size로 알 수 있음\n",
    "model = MyModel(bert_model, num_labels = 2, token_size=bert_model.config.hidden_size)"
   ]
  },
  {
   "cell_type": "code",
   "execution_count": null,
   "id": "2208273d",
   "metadata": {},
   "outputs": [],
   "source": [
    "# 학습\n",
    "# 학습과정을 이해하려면 딥러닝의 학습 원리 및 단계와 파이토치에 대해 알아야 한다.\n",
    "# 먼저 GPU 가속을 활성화하고 모형을 GPU로 복사한다. 다음은 학습을 위해 옵티마이저와 손실 함수를 정의한다.\n",
    "# 각 에포크에서는 그레디언트를 초기화하고 모형으로 배치의 입력값에 대해 예측을 한 후, 답(labels)과 비교해 손실을 계산한다.\n",
    "# 이에 따라 그래디언트를 계산하고 모형의 가중치를 수정한다.\n",
    "from transformers import AdamW\n",
    "import torch.nn.functional as F\n",
    "import time\n",
    "\n",
    "# GPU 가속을 사용할 수 있으면 device를 cuda로 설정하고, 아니면 cpu로 설정\n",
    "device = torch.device('cuda') if torch.cuda.is_available() else torch.device('cpu')\n",
    "\n",
    "model.to(device) # 모형을 GPU로 복사\n",
    "model.train() # 학습모드로 전환\n",
    "\n",
    "# 옵티마이저를 트랜스포머가 제공하는 AdamW로 설정\n",
    "optim = AdamW(model.parameters(), lr=1e-5)\n",
    "\n",
    "# 멀티클래스이므로 크로스 엔트로피를 손실 함수로 사용\n",
    "criterion = torch.nn.CrossEntropyLoss()\n",
    "\n",
    "start = time.time() # 시작시간 기록\n",
    "num_epochs = 4  # 학습 epoch를 4회로 설정\n",
    "for epoch in range(num_epochs):\n",
    "    total_epoch_loss = 0 # epoch의 총 loss 초기화\n",
    "    \n",
    "    for step, batch in enumerate(train_loader):\n",
    "        optim.zero_grad() # 그레이디언트 초기화\n",
    "        \n",
    "        # 배치에서 라벨을 제외한 입력한 추출해 GPU로 복사\n",
    "        inputs= {k:v.to(device) for k,v in batch.items() if k!='labels'}\n",
    "        \n",
    "        labels = batch['labels'].to(device) # 배치에서 라벨을 추출해 GPU로 복사\n",
    "        outputs = model(inputs) # 모형으로 결과 예측\n",
    "        \n",
    "        # 두 클래스에 대해 예측하고 각각 비교해야 하므로\n",
    "        # labels에 대해 원핫 인코딩을 적용한 후에 손실을 계산\n",
    "        loss = criterion(outputs, F.one_hot(labels, num_classes=2).float()) # loss 계산\n",
    "        \n",
    "        if (step + 1) % 100 ==0 : # 100 배치마다 경과한 시간과 loss를 출력\n",
    "            elapsed = time.time() - start\n",
    "            print(\n",
    "                'Epoch %d, batch %d, elapsed time: % .2f, loss: %.4f'\n",
    "                        % (epoch +1, step +1, elapsed, loss)\n",
    "            )\n",
    "            total_epoch_loss += loss\n",
    "            loss.backward() # 그레이디언트 계산\n",
    "            optim.step() # 가중치 계산\n",
    "            \n",
    "        avg_epoch_loss = total_epoch_loss / len(train_loader) # epoch의 평균 loss 계산\n",
    "        print('Average loss for epoch %d: %.4f' % (epoch+1, avg_epoch_loss))            "
   ]
  },
  {
   "cell_type": "code",
   "execution_count": null,
   "id": "3fb56570",
   "metadata": {},
   "outputs": [],
   "source": [
    "# Trainer를 이용한 미세조정학습의 성능인 87%보다도 나은 성능이다. 옵티마이저의 학습전략을 수정함으로써 성능의 향상이 가능하므로\n",
    "# 트랜스포머가 제공하는 학습률 스케줄러를 적용한다면 좀 더 나은 성능을 얻을 수도 있을 것이다.\n",
    "\n",
    "# 테스트 집합에 대해 성능 측정\n",
    "from datasets import load_metric\n",
    "\n",
    "test_loader = DataLoader(test_dataset, batch_size=16)\n",
    "\n",
    "metric = load_metric('accuracy')\n",
    "model.eval()\n",
    "for batch in test_loader:\n",
    "    inputs = {k: v.to(device) for k,v in batch.items() if k !='labels'}\n",
    "    labels = batch['labels'].to(device)\n",
    "    \n",
    "    with torch.no_grad(): # 학습할 필요가 없으므로 그레이디언트 계산을 끔\n",
    "        outputs = model(inputs)\n",
    "        #print(outputs)\n",
    "    predictions = torch.argmax(outputs, dim=1)\n",
    "    metric.add_batch(predictions, references=labels)\n",
    "    \n",
    "metric.compute()        "
   ]
  },
  {
   "cell_type": "code",
   "execution_count": null,
   "id": "d6b440ed",
   "metadata": {},
   "outputs": [],
   "source": []
  },
  {
   "cell_type": "code",
   "execution_count": null,
   "id": "e86a516c",
   "metadata": {},
   "outputs": [],
   "source": []
  },
  {
   "cell_type": "code",
   "execution_count": null,
   "id": "b0b556d0",
   "metadata": {},
   "outputs": [],
   "source": []
  },
  {
   "cell_type": "code",
   "execution_count": null,
   "id": "c76e065e",
   "metadata": {},
   "outputs": [],
   "source": []
  },
  {
   "cell_type": "code",
   "execution_count": null,
   "id": "01ce9a17",
   "metadata": {},
   "outputs": [],
   "source": []
  }
 ],
 "metadata": {
  "kernelspec": {
   "display_name": "Python 3 (ipykernel)",
   "language": "python",
   "name": "python3"
  },
  "language_info": {
   "codemirror_mode": {
    "name": "ipython",
    "version": 3
   },
   "file_extension": ".py",
   "mimetype": "text/x-python",
   "name": "python",
   "nbconvert_exporter": "python",
   "pygments_lexer": "ipython3",
   "version": "3.11.3"
  }
 },
 "nbformat": 4,
 "nbformat_minor": 5
}
