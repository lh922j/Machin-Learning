{
 "cells": [
  {
   "cell_type": "code",
   "execution_count": null,
   "id": "1ca7d9dd",
   "metadata": {},
   "outputs": [],
   "source": [
    "# 감성분석 : 텍스트에 나타난 의견, 평가, 태도와 같은 주관적인 정보를 분석하는 것을 말한다.\n",
    "# 감성분석론은 크게 어휘 기반의 분석과 기계학습 기반의 분석으로 나뉘어진다.\n",
    "\n",
    "# 어휘 기반의 분석은 감성이 표현될 수 있는 명사, 형용사,동사를 대상으로 모든 단어에 대해 긍정 혹은 부정의 감성을 붙여서 감성 사전을 구축한\n",
    "# 후에 이를 기반으로 텍스트에 대한 감성 분석을 수행하는 방식.\n",
    "# 단어별로 하기엔 문제점이 있기에 문장의 형태소를 분석하고 다시 이를 명사구, 형용사구와 같은 구로 묶는 청킹을 한 후, 밑의 단어로부터\n",
    "# 상위의 구로 이동하면서 단계적으로 긍/부정을 결정하는 방식도 있다.\n",
    "\n",
    "# 머신러닝 기반의 감성 분석은 명시적인 감성 사전을 사용하지 않는다. \n",
    "# 말뭉치의 영향을 많이 받는다."
   ]
  },
  {
   "cell_type": "code",
   "execution_count": 4,
   "id": "1ce7195c",
   "metadata": {},
   "outputs": [
    {
     "name": "stderr",
     "output_type": "stream",
     "text": [
      "[nltk_data] Downloading package movie_reviews to\n",
      "[nltk_data]     C:\\Users\\Leedonghoon\\AppData\\Roaming\\nltk_data...\n",
      "[nltk_data]   Package movie_reviews is already up-to-date!\n"
     ]
    },
    {
     "name": "stdout",
     "output_type": "stream",
     "text": [
      "#review count: 2000\n",
      "#samples of file ids: ['neg/cv000_29416.txt', 'neg/cv001_19502.txt', 'neg/cv002_17424.txt', 'neg/cv003_12683.txt', 'neg/cv004_12641.txt', 'neg/cv005_29357.txt', 'neg/cv006_17022.txt', 'neg/cv007_4992.txt', 'neg/cv008_29326.txt', 'neg/cv009_29417.txt']\n",
      "#categories of reviews: ['neg', 'pos']\n",
      "#num of \"neg\" reviews: 1000\n",
      "#num of \"pos\" reviews: 1000\n",
      "#id of the first review: neg/cv000_29416.txt\n",
      "#part of the first review: plot : two teen couples go to a church party , drink and then drive . \n",
      "they get into an accident . \n",
      "one of the guys dies , but his girlfriend continues to see him in her life , and has nightmares . \n",
      "what's the deal ? \n",
      "watch the movie and \" sorta \" find out . . . \n",
      "critique : a mind-fuck movie for the teen generation that touches on a very cool idea , but presents it in a very bad package . \n",
      "which is what makes this review an even harder one to write , since i generally applaud films which attempt\n",
      "#sentiment of the first review: ['neg']\n"
     ]
    }
   ],
   "source": [
    "# 감성 사전을 이용한 영화 리뷰 감성 분석\n",
    "import nltk\n",
    "nltk.download('movie_reviews')\n",
    "\n",
    "from nltk.corpus import movie_reviews\n",
    "\n",
    "print('#review count:', len(movie_reviews.fileids())) # 영화 리뷰 문서의 id를 반환\n",
    "print('#samples of file ids:', movie_reviews.fileids()[:10]) # id를 10개까지만 출력\n",
    "# label, 즉 긍정인지 부정인지에 대한 분류\n",
    "print('#categories of reviews:', movie_reviews.categories())\n",
    "# label이 부정인 문서들의 id를 반환\n",
    "print('#num of \"neg\" reviews:',len(movie_reviews.fileids(categories='neg')))\n",
    "# label이 긍정인 문서들의 id를 반환\n",
    "print('#num of \"pos\" reviews:',len(movie_reviews.fileids(categories='pos')))\n",
    "fileid = movie_reviews.fileids()[0] # 첫번째 문서의 id를 반환\n",
    "print('#id of the first review:',fileid)\n",
    "# 첫번째 문서의 내용을 500자까지만 출력\n",
    "print('#part of the first review:',movie_reviews.raw(fileid)[:500])\n",
    "# 첫번째 문서의 감성\n",
    "print('#sentiment of the first review:', movie_reviews.categories(fileid))\n",
    "\n",
    "# 영화 리뷰 데이터에서 파일 id를 가져옴\n",
    "fileids = movie_reviews.fileids()\n",
    "# 파일 id를 이용해 raw text file을 가져옴\n",
    "reviews=[movie_reviews.raw(fileid) for fileid in fileids]\n",
    "categories = [movie_reviews.categories(fileid)[0] for fileid in fileids]"
   ]
  },
  {
   "cell_type": "code",
   "execution_count": 5,
   "id": "c3c9ad0c",
   "metadata": {},
   "outputs": [
    {
     "name": "stdout",
     "output_type": "stream",
     "text": [
      "Sentiment(polarity=0.06479782948532947, subjectivity=0.5188408350908352)\n"
     ]
    }
   ],
   "source": [
    "# TextBlob을 이용한 감성 분석\n",
    "# TextBlob은 감성 분석 외에 자연어 처리를 위한 다양한 기능을 제공한다.\n",
    "from textblob import TextBlob\n",
    "\n",
    "result = TextBlob(reviews[0])\n",
    "print(result.sentiment)"
   ]
  },
  {
   "cell_type": "code",
   "execution_count": 6,
   "id": "5f3d8aa5",
   "metadata": {},
   "outputs": [],
   "source": [
    "def sentiment_TextBlob(docs):\n",
    "    results= []\n",
    "    \n",
    "    for doc in docs:\n",
    "        testimonial = TextBlob(doc)\n",
    "        if testimonial.sentiment.polarity > 0:\n",
    "            results.append('pos')\n",
    "        else:\n",
    "            results.append('neg')\n",
    "    return results        "
   ]
  },
  {
   "cell_type": "code",
   "execution_count": 7,
   "id": "2ba2000a",
   "metadata": {},
   "outputs": [
    {
     "name": "stdout",
     "output_type": "stream",
     "text": [
      "#TextBlob을 이용한 리뷰 감성분석의 정확도: 0.6\n"
     ]
    }
   ],
   "source": [
    "from sklearn.metrics import accuracy_score\n",
    "\n",
    "print(\n",
    "    '#TextBlob을 이용한 리뷰 감성분석의 정확도:',\n",
    "    accuracy_score(categories, sentiment_TextBlob(reviews))\n",
    ")"
   ]
  },
  {
   "cell_type": "code",
   "execution_count": 10,
   "id": "65b38437",
   "metadata": {},
   "outputs": [
    {
     "name": "stdout",
     "output_type": "stream",
     "text": [
      "#Afinn을 이용한 리뷰 감성분석의 정확도: 0.664\n"
     ]
    }
   ],
   "source": [
    "# AFINN을 이용한 감성 분석\n",
    "# AFINN은 TextBlob과 같이 매우 직관적이다. 전처리 작업을 알아서 하므로 바로 텍스트를 인수로 넘겨준다.\n",
    "from afinn import Afinn\n",
    "\n",
    "def sentiment_Afinn(docs):\n",
    "    afn = Afinn(emoticons = True)\n",
    "    results=[]\n",
    "    \n",
    "    for doc in docs:\n",
    "        if afn.score(doc) > 0:\n",
    "            results.append('pos')\n",
    "        else:\n",
    "            results.append('neg')\n",
    "    return results\n",
    "\n",
    "print(\n",
    "    '#Afinn을 이용한 리뷰 감성분석의 정확도:',\n",
    "    accuracy_score(categories, sentiment_Afinn(reviews))\n",
    ")"
   ]
  },
  {
   "cell_type": "code",
   "execution_count": 11,
   "id": "b343cc9f",
   "metadata": {},
   "outputs": [
    {
     "name": "stderr",
     "output_type": "stream",
     "text": [
      "[nltk_data] Downloading package vader_lexicon to\n",
      "[nltk_data]     C:\\Users\\Leedonghoon\\AppData\\Roaming\\nltk_data...\n",
      "[nltk_data]   Package vader_lexicon is already up-to-date!\n"
     ]
    },
    {
     "data": {
      "text/plain": [
       "True"
      ]
     },
     "execution_count": 11,
     "metadata": {},
     "output_type": "execute_result"
    }
   ],
   "source": [
    "# VADER를 이용한 감성 분석\n",
    "\n",
    "# VADER는 규칙기반의 감성 분석 알고리즘을 사용하는 것, 트위터나 페이스북 같은 소셜 미디어의 텍스트에서 좋은 성능이 나올 수 있도록 개발\n",
    "\n",
    "import nltk\n",
    "nltk.download('vader_lexicon')"
   ]
  },
  {
   "cell_type": "code",
   "execution_count": 12,
   "id": "a980435d",
   "metadata": {},
   "outputs": [
    {
     "name": "stdout",
     "output_type": "stream",
     "text": [
      "#Vader을 이용한 리뷰 감성분석의 정확도: 0.635\n"
     ]
    }
   ],
   "source": [
    "from afinn import Afinn\n",
    "from nltk.sentiment.vader import SentimentIntensityAnalyzer\n",
    "\n",
    "def sentiment_vader(docs):\n",
    "    analyser = SentimentIntensityAnalyzer()\n",
    "    results=[]\n",
    "    \n",
    "    for doc in docs:\n",
    "        score = analyser.polarity_scores(doc)\n",
    "        if score['compound'] > 0 :\n",
    "            results.append('pos')\n",
    "        else:\n",
    "            results.append('neg')\n",
    "    return results\n",
    "print(\n",
    "     '#Vader을 이용한 리뷰 감성분석의 정확도:',\n",
    "     accuracy_score(categories, sentiment_vader(reviews))\n",
    ")"
   ]
  },
  {
   "cell_type": "code",
   "execution_count": 16,
   "id": "f4cd51d3",
   "metadata": {},
   "outputs": [
    {
     "name": "stdout",
     "output_type": "stream",
     "text": [
      "Train set count: 1600\n",
      "Test set count: 400\n"
     ]
    }
   ],
   "source": [
    "# 학습을 통한 머신러닝 기반의 감성 분석\n",
    "# NLTK 영화 리뷰에 대한 머신러닝 기반 감성 분석\n",
    "from sklearn.model_selection import train_test_split\n",
    "\n",
    "X_train, X_test, y_train ,y_test = train_test_split(reviews, categories, test_size=0.2,random_state=7)\n",
    "\n",
    "print('Train set count:', len(X_train))\n",
    "print('Test set count:', len(X_test))"
   ]
  },
  {
   "cell_type": "code",
   "execution_count": 21,
   "id": "ff03f361",
   "metadata": {},
   "outputs": [
    {
     "name": "stdout",
     "output_type": "stream",
     "text": [
      "#Train set dimension: (1600, 36189)\n",
      "#Test set dimension: (400, 36189)\n",
      "#Train set score:0.998\n",
      "#Test set score:0.797\n"
     ]
    }
   ],
   "source": [
    "from sklearn.feature_extraction.text import TfidfVectorizer\n",
    "from sklearn.naive_bayes import MultinomialNB\n",
    "\n",
    "tfidf = TfidfVectorizer()\n",
    "X_train_tfidf = tfidf.fit_transform(X_train) # train set을 변환\n",
    "\n",
    "# 실제로 몇 개의 특성이 사용됐는지 확인\n",
    "print('#Train set dimension:', X_train_tfidf.shape)\n",
    "\n",
    "X_test_tfidf = tfidf.transform(X_test) # test set을 변환\n",
    "print('#Test set dimension:',X_test_tfidf.shape)\n",
    "\n",
    "NB_clf = MultinomialNB(alpha=0.01) # 분류기 선언\n",
    "NB_clf.fit(X_train_tfidf, y_train) # train set을 이용해 분류기를 학습\n",
    "\n",
    "# train set에 대한 예측정확도를 확인\n",
    "print('#Train set score:{:.3f}'.format(NB_clf.score(X_train_tfidf, y_train)))\n",
    "\n",
    "# test set에 대한 예측정확도를 확인\n",
    "print('#Test set score:{:.3f}'.format(NB_clf.score(X_test_tfidf, y_test)))"
   ]
  },
  {
   "cell_type": "code",
   "execution_count": 22,
   "id": "ac65db5b",
   "metadata": {},
   "outputs": [
    {
     "data": {
      "text/html": [
       "<div>\n",
       "<style scoped>\n",
       "    .dataframe tbody tr th:only-of-type {\n",
       "        vertical-align: middle;\n",
       "    }\n",
       "\n",
       "    .dataframe tbody tr th {\n",
       "        vertical-align: top;\n",
       "    }\n",
       "\n",
       "    .dataframe thead th {\n",
       "        text-align: right;\n",
       "    }\n",
       "</style>\n",
       "<table border=\"1\" class=\"dataframe\">\n",
       "  <thead>\n",
       "    <tr style=\"text-align: right;\">\n",
       "      <th></th>\n",
       "      <th>review</th>\n",
       "      <th>rating</th>\n",
       "      <th>date</th>\n",
       "      <th>title</th>\n",
       "    </tr>\n",
       "  </thead>\n",
       "  <tbody>\n",
       "    <tr>\n",
       "      <th>0</th>\n",
       "      <td>돈 들인건 티가 나지만 보는 내내 하품만</td>\n",
       "      <td>1</td>\n",
       "      <td>2018.10.29</td>\n",
       "      <td>인피니티 워</td>\n",
       "    </tr>\n",
       "    <tr>\n",
       "      <th>1</th>\n",
       "      <td>몰입할수밖에 없다. 어렵게 생각할 필요없다. 내가 전투에 참여한듯 손에 땀이남.</td>\n",
       "      <td>10</td>\n",
       "      <td>2018.10.26</td>\n",
       "      <td>인피니티 워</td>\n",
       "    </tr>\n",
       "    <tr>\n",
       "      <th>2</th>\n",
       "      <td>이전 작품에 비해 더 화려하고 스케일도 커졌지만.... 전국 맛집의 음식들을 한데 ...</td>\n",
       "      <td>8</td>\n",
       "      <td>2018.10.24</td>\n",
       "      <td>인피니티 워</td>\n",
       "    </tr>\n",
       "    <tr>\n",
       "      <th>3</th>\n",
       "      <td>이 정도면 볼만하다고 할 수 있음!</td>\n",
       "      <td>8</td>\n",
       "      <td>2018.10.22</td>\n",
       "      <td>인피니티 워</td>\n",
       "    </tr>\n",
       "    <tr>\n",
       "      <th>4</th>\n",
       "      <td>재미있다</td>\n",
       "      <td>10</td>\n",
       "      <td>2018.10.20</td>\n",
       "      <td>인피니티 워</td>\n",
       "    </tr>\n",
       "  </tbody>\n",
       "</table>\n",
       "</div>"
      ],
      "text/plain": [
       "                                              review  rating        date  \\\n",
       "0                             돈 들인건 티가 나지만 보는 내내 하품만       1  2018.10.29   \n",
       "1       몰입할수밖에 없다. 어렵게 생각할 필요없다. 내가 전투에 참여한듯 손에 땀이남.      10  2018.10.26   \n",
       "2  이전 작품에 비해 더 화려하고 스케일도 커졌지만.... 전국 맛집의 음식들을 한데 ...       8  2018.10.24   \n",
       "3                                이 정도면 볼만하다고 할 수 있음!       8  2018.10.22   \n",
       "4                                               재미있다      10  2018.10.20   \n",
       "\n",
       "    title  \n",
       "0  인피니티 워  \n",
       "1  인피니티 워  \n",
       "2  인피니티 워  \n",
       "3  인피니티 워  \n",
       "4  인피니티 워  "
      ]
     },
     "execution_count": 22,
     "metadata": {},
     "output_type": "execute_result"
    }
   ],
   "source": [
    "# 다음 영화 리뷰에 대한 머신러닝 기반 감성 분석\n",
    "import pandas as pd\n",
    "df = pd.read_csv('daum_movie_review.csv')\n",
    "df.head(5)"
   ]
  },
  {
   "cell_type": "code",
   "execution_count": 23,
   "id": "c1b87f87",
   "metadata": {},
   "outputs": [
    {
     "data": {
      "image/png": "[encoded data removed]",
      "text/plain": [
       "<Figure size 640x480 with 1 Axes>"
      ]
     },
     "metadata": {},
     "output_type": "display_data"
    }
   ],
   "source": [
    "# 5보다 큰값은 긍정, 작은 값은 부정,\n",
    "# 클래스별로 고르게 분포하지 않는 경우를 불균형 데이터셋이라 한다.\n",
    "# 이와 같은 불균형 데이터에서의 성능 측정을 위해 사용하는 지표는 정밀도와 재현율이 있다.\n",
    "# 정밀도 (전체 예측 :긍정에서 실제: 긍정)  TP/(TP + FP)\n",
    "# 재현율 (전체 실제: 긍정에서 예측: 긍정) TP/ (TP + FN)\n",
    "\n",
    "\n",
    "import matplotlib.pyplot as plt\n",
    "%matplotlib inline\n",
    "df.rating.value_counts().sort_index().plot(kind='bar')\n",
    "# df.rating.plot.hist(bins=10) # 히스토그램을 그릴 수도 있다.\n",
    "plt.show()"
   ]
  },
  {
   "cell_type": "code",
   "execution_count": 24,
   "id": "21eb03fa",
   "metadata": {},
   "outputs": [
    {
     "name": "stdout",
     "output_type": "stream",
     "text": [
      "#Train set size: 11043\n",
      "#Test set size: 3682\n"
     ]
    },
    {
     "name": "stderr",
     "output_type": "stream",
     "text": [
      "C:\\Users\\Leedonghoon\\anaconda3\\Lib\\site-packages\\sklearn\\feature_extraction\\text.py:528: UserWarning: The parameter 'token_pattern' will not be used since 'tokenizer' is not None'\n",
      "  warnings.warn(\n"
     ]
    }
   ],
   "source": [
    "# 데이터 학습 두가지 \n",
    "# 첫째, 평점이 0부터 10까지의 연속된 값이므로 평점을 예측하는 다중회귀분석 사용\n",
    "# 둘째, 평점을 긍정과 부정으로 먼저 변환하고 이것을 라벨로 해서 로지스틱회귀분석 사용\n",
    "\n",
    "from sklearn.model_selection import train_test_split\n",
    "\n",
    "X_train, X_test, y_train, y_test = train_test_split(df.review, df.rating, random_state=7)\n",
    "print('#Train set size:',len(X_train))\n",
    "print('#Test set size:', len(X_test))\n",
    "\n",
    "from konlpy.tag import Okt\n",
    "#from konlpy.tag import Twitter\n",
    "okt = Okt()\n",
    "\n",
    "def twit_tokenizer(text): # 전체를 다 사용하는 대신, 명사, 동사, 형용사를 사용\n",
    "    target_tags = ['Noun', 'Verb', 'Adjective']\n",
    "    result=[]\n",
    "    for word, tag in okt.pos(text, norm=True, stem=True):\n",
    "        if tag in target_tags:\n",
    "            result.append(word)\n",
    "    return result\n",
    "\n",
    "# 명사, 동사, 형용사를 이용해 tfidf 생성\n",
    "tfidf = TfidfVectorizer(tokenizer=twit_tokenizer, max_features=2000, min_df=5, max_df=0.5)\n",
    "\n",
    "X_train_tfidf = tfidf.fit_transform(X_train)\n",
    "X_test_tfidf = tfidf.transform(X_test)"
   ]
  },
  {
   "cell_type": "code",
   "execution_count": 25,
   "id": "ca4dc082",
   "metadata": {},
   "outputs": [
    {
     "name": "stdout",
     "output_type": "stream",
     "text": [
      "#Regression Train set R2 score:0.605\n",
      "#Regression Test set R2 score:0.395\n"
     ]
    }
   ],
   "source": [
    "# 다중회귀분석\n",
    "from sklearn.linear_model import LinearRegression\n",
    "\n",
    "lr = LinearRegression() # 객체를 생성\n",
    "lr.fit(X_train_tfidf, y_train)\n",
    "print('#Regression Train set R2 score:{:.3f}'.format(lr.score(X_train_tfidf, y_train)))\n",
    "print('#Regression Test set R2 score:{:.3f}'.format(lr.score(X_test_tfidf, y_test)))"
   ]
  },
  {
   "cell_type": "code",
   "execution_count": 27,
   "id": "5b77fb2e",
   "metadata": {},
   "outputs": [
    {
     "name": "stdout",
     "output_type": "stream",
     "text": [
      "#Accuracy for train set: 0.888\n",
      "#Recall for train set: 0.969\n",
      "#F1 for train set: 0.929\n",
      "#Accuracy for test set: 0.848\n",
      "#Recall for test set: 0.946\n",
      "#F1 for test set: 0.905\n"
     ]
    }
   ],
   "source": [
    "y_train_senti = (y_train > 5)\n",
    "y_test_senti = (y_test > 5)\n",
    "\n",
    "y_train_predict = (lr.predict(X_train_tfidf) > 5)\n",
    "y_test_predict = (lr.predict(X_test_tfidf) > 5)\n",
    "\n",
    "from sklearn.metrics import precision_score, recall_score, f1_score\n",
    "\n",
    "print('#Accuracy for train set: {:.3f}'.format(\n",
    "        accuracy_score(y_train_senti, y_train_predict)\n",
    "      )\n",
    ")\n",
    "print('#Recall for train set: {:.3f}'.format(\n",
    "        recall_score(y_train_senti, y_train_predict)\n",
    "      )\n",
    ")\n",
    "print('#F1 for train set: {:.3f}'.format(\n",
    "        f1_score(y_train_senti, y_train_predict)\n",
    "      )\n",
    ")\n",
    "\n",
    "print('#Accuracy for test set: {:.3f}'.format(\n",
    "        accuracy_score(y_test_senti, y_test_predict)\n",
    "      )\n",
    ")\n",
    "print('#Recall for test set: {:.3f}'.format(\n",
    "        recall_score(y_test_senti, y_test_predict)\n",
    "      )\n",
    ")\n",
    "print('#F1 for test set: {:.3f}'.format(\n",
    "        f1_score(y_test_senti, y_test_predict)\n",
    "      )\n",
    ")\n"
   ]
  },
  {
   "cell_type": "code",
   "execution_count": 29,
   "id": "01f82f8e",
   "metadata": {},
   "outputs": [
    {
     "name": "stdout",
     "output_type": "stream",
     "text": [
      "#Accuracy for train set:0.878\n",
      "#Precision for train set:0.878\n",
      "#Recall for train set:0.973\n",
      "#F1 for train set:0.923\n",
      "#Accuracy for test set:0.855\n",
      "#Precision for test set:0.866\n",
      "#Recall for test set:0.958\n",
      "#F1 for test set:0.910\n"
     ]
    }
   ],
   "source": [
    "# 두가지 모두 다 시도해보고 더 나은 모형을 선택\n",
    "\n",
    "\n",
    "# 극성을 라벨로 한 로지스틱 회귀분석\n",
    "# sklearn이 제공하는 logistic regression을 사용\n",
    "from sklearn.linear_model import LogisticRegression\n",
    "\n",
    "# count vector에 대해 regression을 해서 NB와 비교\n",
    "LR_clf = LogisticRegression() # 분류기 선언\n",
    "LR_clf.fit(X_train_tfidf, y_train_senti) # train data를 이용해 분류기를 학습\n",
    "\n",
    "y_train_predict = LR_clf.predict(X_train_tfidf)\n",
    "y_test_predict = LR_clf.predict(X_test_tfidf)\n",
    "\n",
    "print('#Accuracy for train set:{:.3f}'.format(\n",
    "       accuracy_score(y_train_senti, y_train_predict)))\n",
    "print('#Precision for train set:{:.3f}'.format(\n",
    "       precision_score(y_train_senti, y_train_predict)))\n",
    "print('#Recall for train set:{:.3f}'.format(\n",
    "       recall_score(y_train_senti, y_train_predict)))\n",
    "print('#F1 for train set:{:.3f}'.format(\n",
    "       f1_score(y_train_senti, y_train_predict)))\n",
    "\n",
    "print('#Accuracy for test set:{:.3f}'.format(\n",
    "       accuracy_score(y_test_senti, y_test_predict)))\n",
    "print('#Precision for test set:{:.3f}'.format(\n",
    "       precision_score(y_test_senti, y_test_predict)))\n",
    "print('#Recall for test set:{:.3f}'.format(\n",
    "       recall_score(y_test_senti, y_test_predict)))\n",
    "print('#F1 for test set:{:.3f}'.format(\n",
    "       f1_score(y_test_senti, y_test_predict)))"
   ]
  },
  {
   "cell_type": "code",
   "execution_count": null,
   "id": "67209f38",
   "metadata": {},
   "outputs": [],
   "source": []
  },
  {
   "cell_type": "code",
   "execution_count": null,
   "id": "f6ffde74",
   "metadata": {},
   "outputs": [],
   "source": []
  },
  {
   "cell_type": "code",
   "execution_count": null,
   "id": "b9e6f16d",
   "metadata": {},
   "outputs": [],
   "source": []
  }
 ],
 "metadata": {
  "kernelspec": {
   "display_name": "Python 3 (ipykernel)",
   "language": "python",
   "name": "python3"
  },
  "language_info": {
   "codemirror_mode": {
    "name": "ipython",
    "version": 3
   },
   "file_extension": ".py",
   "mimetype": "text/x-python",
   "name": "python",
   "nbconvert_exporter": "python",
   "pygments_lexer": "ipython3",
   "version": "3.11.3"
  }
 },
 "nbformat": 4,
 "nbformat_minor": 5
}
