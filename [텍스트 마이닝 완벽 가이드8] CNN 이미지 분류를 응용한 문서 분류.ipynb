{
 "cells": [
  {
   "cell_type": "code",
   "execution_count": null,
   "id": "fda09e66",
   "metadata": {},
   "outputs": [],
   "source": [
    "# CNN은 이미지 인식에 탁월한 효과를 보이는 딥러닝 신경망이다. 그러나 문서 분류에서 뛰어난 효과를 보이는 것으로 입증되었다.\n",
    "# CNN에서 주변 정보들을 요약하고 특성을 추출하는 과정은 두 단계로 이루어져 있다.\n",
    "# 첫 단계는 원본 이미지에 필터를 적용해 주변 정보를 요약하는 '컨볼루션 단계'다. 필터는 원본 이미지보다 작은 2차원 행렬로 학습의 대상이\n",
    "# 되는 파라미터인데, 보통 3x3, 5x5의 크기를 많이 사용한다.\n",
    "# 컨볼루션에서 중요한 요소는 필터 혹은 채널의 수다. 이미지를 판별하려면 다양한 관점에서 이미지를 분석할 필요가 있다.\n",
    "# 이를 반영하기 위해 필터의 수를 여러 개로 할 수 있다. 하나의 이미지로부터 두 개의 서로 다른 요약정보를 추출하는 것이다.\n",
    "# 두번째 단계는 풀링으로, 요약된 2차원 행렬을 축소하는 단계이다."
   ]
  },
  {
   "cell_type": "code",
   "execution_count": 1,
   "id": "29ba0d60",
   "metadata": {},
   "outputs": [],
   "source": [
    "# CNN을 이용한 문서 분류\n",
    "from nltk.corpus import movie_reviews\n",
    "import numpy as np\n",
    "import tensorflow as tf\n",
    "from tensorflow.keras.preprocessing.text import Tokenizer\n",
    "from tensorflow.keras.preprocessing.sequence import pad_sequences\n",
    "from sklearn.model_selection import train_test_split\n",
    "\n",
    "# movie review data에서 fild id를 가져옴\n",
    "fileids = movie_reviews.fileids()\n",
    "# file id를 이용해 raw text file을 가져옴\n",
    "reviews = [movie_reviews.raw(fileid) for fileid in fileids]\n",
    "categories = [movie_reviews.categories(fileid)[0] for fileid in fileids]\n",
    "\n",
    "np.random.seed(7)\n",
    "tf.random.set_seed(7)\n",
    "\n",
    "max_words = 10000 # 사용할 단어의 수\n",
    "maxlen = 500 # 문서의 단어 수를 제한\n",
    "\n",
    "# 빈도가 높은 10000개의 단어를 선택하도록 객체 생성\n",
    "tokenizer = Tokenizer(num_words = max_words, oov_token = 'UNK')\n",
    "tokenizer.fit_on_texts(reviews) # 단어 인덱스 구축\n",
    "\n",
    "X = tokenizer.texts_to_sequences(reviews) # 만들어진 단어 인덱스를 이용해 변환\n",
    "X = pad_sequences(X, maxlen = maxlen, truncating='pre')\n",
    "\n",
    "# label을 0,1의 값으로 변환\n",
    "label_dict = {'pos':0, 'neg':1}\n",
    "y = np.array([label_dict[c] for c in categories])\n",
    "X_train, X_test, y_train, y_test = train_test_split(X,y, test_size=0.2, random_state=10)"
   ]
  },
  {
   "cell_type": "code",
   "execution_count": 2,
   "id": "c60f37fc",
   "metadata": {},
   "outputs": [
    {
     "name": "stdout",
     "output_type": "stream",
     "text": [
      "Model: \"sequential\"\n",
      "_________________________________________________________________\n",
      " Layer (type)                Output Shape              Param #   \n",
      "=================================================================\n",
      " embedding (Embedding)       (None, 500, 64)           640000    \n",
      "                                                                 \n",
      " conv1d (Conv1D)             (None, 496, 128)          41088     \n",
      "                                                                 \n",
      " max_pooling1d (MaxPooling1  (None, 248, 128)          0         \n",
      " D)                                                              \n",
      "                                                                 \n",
      " conv1d_1 (Conv1D)           (None, 244, 256)          164096    \n",
      "                                                                 \n",
      " max_pooling1d_1 (MaxPoolin  (None, 122, 256)          0         \n",
      " g1D)                                                            \n",
      "                                                                 \n",
      " flatten (Flatten)           (None, 31232)             0         \n",
      "                                                                 \n",
      " dense (Dense)               (None, 64)                1998912   \n",
      "                                                                 \n",
      " dense_1 (Dense)             (None, 1)                 65        \n",
      "                                                                 \n",
      "=================================================================\n",
      "Total params: 2844161 (10.85 MB)\n",
      "Trainable params: 2844161 (10.85 MB)\n",
      "Non-trainable params: 0 (0.00 Byte)\n",
      "_________________________________________________________________\n"
     ]
    }
   ],
   "source": [
    "from tensorflow.keras.models import Sequential\n",
    "from tensorflow.keras.layers import Dense, Conv1D, MaxPooling1D\n",
    "from tensorflow.keras.layers import Embedding, Dropout, Flatten\n",
    "from tensorflow.keras.optimizers import Adam\n",
    "\n",
    "model = Sequential([\n",
    "    # word embedding layer 생성\n",
    "    Embedding(max_words, 64, input_length = maxlen),\n",
    "    Conv1D(128, #채널의 수\n",
    "          5, # 1D 필터의 크기\n",
    "          padding='valid',\n",
    "          activation='relu',\n",
    "          strides=1),\n",
    "    MaxPooling1D(),\n",
    "    Conv1D(256, # 채널의 수\n",
    "          5, # 1D 필터의 크기\n",
    "          padding='valid',\n",
    "          activation='relu',\n",
    "          strides=1),\n",
    "    MaxPooling1D(),\n",
    "    Flatten(),\n",
    "    Dense(64, activation='relu'),\n",
    "    Dense(1, activation='sigmoid') # binary logistic regression을 수행\n",
    "])\n",
    "model.summary()"
   ]
  },
  {
   "cell_type": "code",
   "execution_count": 3,
   "id": "c66bbdea",
   "metadata": {},
   "outputs": [
    {
     "data": {
      "image/png": "[encoded data removed]",
      "text/plain": [
       "<Figure size 640x480 with 1 Axes>"
      ]
     },
     "metadata": {},
     "output_type": "display_data"
    },
    {
     "name": "stdout",
     "output_type": "stream",
     "text": [
      "13/13 [==============================] - 0s 23ms/step - loss: 1.0097 - acc: 0.8150\n",
      "#Test accuracy:0.815\n"
     ]
    }
   ],
   "source": [
    "# 테스트 데이터에 대한 정확도를 보면, RNN모형에 비해 우수한 81.5%가 나온 것을 볼 수 있다.\n",
    "# 이 한 번의 결과로 단정할 수는 없으나, 적어도 RNN 못지않은 성능을 보인다고 생각할 수 있다.\n",
    "\n",
    "adam = Adam(learning_rate=1e-3)\n",
    "model.compile(optimizer=adam, loss='binary_crossentropy', metrics=['acc'])\n",
    "history = model.fit(X_train, y_train,\n",
    "                   epochs = 20,\n",
    "                   batch_size=256,\n",
    "                   verbose=0,\n",
    "                   validation_split=0.2)\n",
    "# 학습 결과 그래프를 그린다.\n",
    "%matplotlib inline\n",
    "import matplotlib.pyplot as plt\n",
    "\n",
    "def plot_results(history, metric):\n",
    "    plt.plot(history.history[metric], 'b', label='Training '+metric)\n",
    "    plt.plot(history.history['val_'+metric], 'r--', label='Validation '+metric)\n",
    "    plt.title('Training vs. Validation '+metric)\n",
    "    plt.xlabel('Epochs')\n",
    "    plt.ylabel(metric)\n",
    "    plt.legend()\n",
    "    plt.show()\n",
    "plot_results(history, 'loss')\n",
    "\n",
    "# 테스트 셋으로 학습된 모형의 성능을 평가\n",
    "score = model.evaluate(X_test, y_test)\n",
    "print(f'#Test accuracy:{score[1]:.3f}')"
   ]
  },
  {
   "cell_type": "code",
   "execution_count": null,
   "id": "eab84104",
   "metadata": {},
   "outputs": [],
   "source": []
  },
  {
   "cell_type": "code",
   "execution_count": null,
   "id": "b479a296",
   "metadata": {},
   "outputs": [],
   "source": []
  },
  {
   "cell_type": "code",
   "execution_count": null,
   "id": "903b179a",
   "metadata": {},
   "outputs": [],
   "source": []
  },
  {
   "cell_type": "code",
   "execution_count": null,
   "id": "e8d7548d",
   "metadata": {},
   "outputs": [],
   "source": []
  },
  {
   "cell_type": "code",
   "execution_count": null,
   "id": "60a469f4",
   "metadata": {},
   "outputs": [],
   "source": []
  },
  {
   "cell_type": "code",
   "execution_count": null,
   "id": "8c500eef",
   "metadata": {},
   "outputs": [],
   "source": []
  }
 ],
 "metadata": {
  "kernelspec": {
   "display_name": "Python 3 (ipykernel)",
   "language": "python",
   "name": "python3"
  },
  "language_info": {
   "codemirror_mode": {
    "name": "ipython",
    "version": 3
   },
   "file_extension": ".py",
   "mimetype": "text/x-python",
   "name": "python",
   "nbconvert_exporter": "python",
   "pygments_lexer": "ipython3",
   "version": "3.11.3"
  }
 },
 "nbformat": 4,
 "nbformat_minor": 5
}
