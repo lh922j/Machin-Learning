{
 "cells": [
  {
   "cell_type": "code",
   "execution_count": null,
   "id": "1a041a25",
   "metadata": {},
   "outputs": [],
   "source": [
    "# 번력에서 시작된 딥러닝 기법이 어떻게 발전했고, 그 결과 텍스트 마이닝 전 분야에서 활용되게 된 과정\n",
    "# Seq2seq: 번역에서 시작한 딥러닝 기법\n",
    "# 문서 분류는 하나의 결론만 생성하면 되지만 번역은 단어들을 순차적으로 생성해야 하기 때문에 어렵다.\n",
    "# 입력으로 일련의 단어들이 들어오고 이를 이용해서 다시 일련의 단어들을 생성해야 하는 문제를 seq2seq라고 한다.\n",
    "# 먼저, 번역의 첫 단어를 예측한다.\n",
    "# 번역 학습을 하면서 구성한 한글 사전에 있는 모든 단어에 대해 확률을 계산하고 그중 가장 높은 확률인 단어를 제안한다.\n",
    "# 다음 단어를 예측한다, 사전에 있는 모든 단어들에 대해 확률을 계산하고 가장 확률일 높은 단어를 선정한다. 반복 작업\n",
    "# 영어와 한글은 어순이 달라서 단순히 단어를 순서대로 번역한다고 해서 올바른 문장이 되지는 않는다.\n",
    "# BOW 기반의 기법으로는 사실상 번역이 불가능하다.\n",
    "# Seq2seq 문제에 적용할 수 있는 가장 단순한 딥러닝 모형은 RNN이다\n",
    "# 모형은 인코더와 디코더로 이뤄진다.\n",
    "# (영어->프랑스어) 인코더는 영어 문장을 이해하는 역할, 디코더는 이 문맥정보로부터 프랑스어 문장을 생성하는 역할\n",
    "# "
   ]
  },
  {
   "cell_type": "code",
   "execution_count": null,
   "id": "bc9c9c8a",
   "metadata": {},
   "outputs": [],
   "source": []
  },
  {
   "cell_type": "code",
   "execution_count": null,
   "id": "7e97a87d",
   "metadata": {},
   "outputs": [],
   "source": []
  },
  {
   "cell_type": "code",
   "execution_count": null,
   "id": "eebfcef4",
   "metadata": {},
   "outputs": [],
   "source": []
  },
  {
   "cell_type": "code",
   "execution_count": null,
   "id": "c337a8d2",
   "metadata": {},
   "outputs": [],
   "source": []
  },
  {
   "cell_type": "code",
   "execution_count": null,
   "id": "eaee9591",
   "metadata": {},
   "outputs": [],
   "source": []
  },
  {
   "cell_type": "code",
   "execution_count": null,
   "id": "2d08a8cb",
   "metadata": {},
   "outputs": [],
   "source": []
  },
  {
   "cell_type": "code",
   "execution_count": null,
   "id": "d9783e0c",
   "metadata": {},
   "outputs": [],
   "source": []
  },
  {
   "cell_type": "code",
   "execution_count": null,
   "id": "1adf3aee",
   "metadata": {},
   "outputs": [],
   "source": []
  },
  {
   "cell_type": "code",
   "execution_count": null,
   "id": "81895719",
   "metadata": {},
   "outputs": [],
   "source": []
  }
 ],
 "metadata": {
  "kernelspec": {
   "display_name": "Python 3 (ipykernel)",
   "language": "python",
   "name": "python3"
  },
  "language_info": {
   "codemirror_mode": {
    "name": "ipython",
    "version": 3
   },
   "file_extension": ".py",
   "mimetype": "text/x-python",
   "name": "python",
   "nbconvert_exporter": "python",
   "pygments_lexer": "ipython3",
   "version": "3.11.3"
  }
 },
 "nbformat": 4,
 "nbformat_minor": 5
}
